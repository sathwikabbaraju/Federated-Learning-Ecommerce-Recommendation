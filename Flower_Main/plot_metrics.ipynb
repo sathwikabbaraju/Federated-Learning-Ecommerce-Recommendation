{
 "cells": [
  {
   "cell_type": "code",
   "execution_count": null,
   "id": "68eb59b4",
   "metadata": {},
   "outputs": [],
   "source": [
    "import pandas as pd\n",
    "import matplotlib.pyplot as plt\n",
    "\n",
    "df = pd.read_csv(\"training_metrics.csv\")\n",
    "\n",
    "plt.figure()\n",
    "plt.plot(df[\"round\"], df[\"loss\"], marker=\"o\")\n",
    "plt.xlabel(\"Round\"); plt.ylabel(\"Cross‑entropy loss\"); plt.title(\"Loss vs Round\")\n",
    "plt.grid(True)\n",
    "plt.savefig(\"loss_curve.png\")      # or plt.show()\n",
    "\n",
    "plt.figure()\n",
    "plt.plot(df[\"round\"], df[\"accuracy\"], marker=\"o\")\n",
    "plt.xlabel(\"Round\"); plt.ylabel(\"Accuracy\"); plt.title(\"Accuracy vs Round\")\n",
    "plt.grid(True)\n",
    "plt.savefig(\"accuracy_curve.png\")\n"
   ]
  },
  {
   "cell_type": "code",
   "execution_count": null,
   "id": "10fc5e59",
   "metadata": {},
   "outputs": [],
   "source": [
    "from sklearn.metrics import roc_curve, auc\n",
    "import matplotlib.pyplot as plt\n",
    "import pandas as pd\n",
    "\n",
    "df = pd.read_csv(\"prediction_results.csv\")\n",
    "fpr, tpr, _ = roc_curve(df[\"true\"], df[\"prob_1\"])\n",
    "roc_auc = auc(fpr, tpr)\n",
    "\n",
    "plt.figure()\n",
    "plt.plot(fpr, tpr, label=f\"ROC AUC = {roc_auc:.3f}\")\n",
    "plt.plot([0, 1], [0, 1], \"k--\", lw=0.7)\n",
    "plt.xlabel(\"False‑Positive Rate\"); plt.ylabel(\"True‑Positive Rate\")\n",
    "plt.title(\"Receiver Operating Characteristic\")\n",
    "plt.legend()\n",
    "plt.grid(True)\n",
    "plt.savefig(\"roc_curve.png\")\n"
   ]
  }
 ],
 "metadata": {
  "language_info": {
   "name": "python"
  }
 },
 "nbformat": 4,
 "nbformat_minor": 5
}
